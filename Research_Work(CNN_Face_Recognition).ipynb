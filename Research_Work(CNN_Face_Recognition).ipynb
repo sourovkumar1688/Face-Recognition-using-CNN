{
  "nbformat": 4,
  "nbformat_minor": 0,
  "metadata": {
    "colab": {
      "name": "Research Work(CNN Face Recognition).ipynb",
      "provenance": [],
      "mount_file_id": "1sO6I_3IDNmkNYukl-qda9JrQ4BKaHhGM",
      "authorship_tag": "ABX9TyMXFaFeX2NxMJMFa7PbmIN+",
      "include_colab_link": true
    },
    "kernelspec": {
      "name": "python3",
      "display_name": "Python 3"
    }
  },
  "cells": [
    {
      "cell_type": "markdown",
      "metadata": {
        "id": "view-in-github",
        "colab_type": "text"
      },
      "source": [
        "<a href=\"https://colab.research.google.com/github/sourovkumar1688/Face-Recognition-using-CNN/blob/main/Research_Work(CNN_Face_Recognition).ipynb\" target=\"_parent\"><img src=\"https://colab.research.google.com/assets/colab-badge.svg\" alt=\"Open In Colab\"/></a>"
      ]
    },
    {
      "cell_type": "code",
      "metadata": {
        "id": "W2n5nynJxZPf"
      },
      "source": [
        "import keras\r\n",
        "from keras.models import Sequential\r\n",
        "from keras.layers import Conv2D, MaxPooling2D, Dense, Flatten, Dropout\r\n",
        "from keras.optimizers import Adam\r\n",
        "from keras.callbacks import TensorBoard\r\n",
        "\r\n",
        "import numpy as np\r\n",
        "import pandas as pd\r\n",
        "import matplotlib.pyplot as plt\r\n",
        "from sklearn.model_selection import train_test_split\r\n",
        "\r\n",
        "from sklearn.metrics import confusion_matrix\r\n",
        "from sklearn.metrics import classification_report\r\n",
        "from sklearn.metrics import roc_curve, auc\r\n",
        "from sklearn.metrics import accuracy_score\r\n",
        "from keras.utils import np_utils\r\n",
        "import itertools"
      ],
      "execution_count": null,
      "outputs": []
    },
    {
      "cell_type": "markdown",
      "metadata": {
        "id": "vo6m_B-_g38f"
      },
      "source": [
        "###Dive Mount###"
      ]
    },
    {
      "cell_type": "code",
      "metadata": {
        "colab": {
          "base_uri": "https://localhost:8080/"
        },
        "id": "NmSDqPEdxiRj",
        "outputId": "3e7ef705-57e1-4998-9492-e94e23db7335"
      },
      "source": [
        "from google.colab import drive\r\n",
        "drive.mount('/content/gdrive')"
      ],
      "execution_count": null,
      "outputs": [
        {
          "output_type": "stream",
          "text": [
            "Drive already mounted at /content/gdrive; to attempt to forcibly remount, call drive.mount(\"/content/gdrive\", force_remount=True).\n"
          ],
          "name": "stdout"
        }
      ]
    },
    {
      "cell_type": "markdown",
      "metadata": {
        "id": "IENV-RtthLlt"
      },
      "source": [
        "#load dataset"
      ]
    },
    {
      "cell_type": "code",
      "metadata": {
        "colab": {
          "base_uri": "https://localhost:8080/"
        },
        "id": "3qjp6A95z6C1",
        "outputId": "9a858c3e-fe08-41a1-dd15-3f97f26f4db4"
      },
      "source": [
        "#load dataset\r\n",
        "data = np.load('ORL_faces.npz') \r\n",
        "\r\n",
        "# load the \"Train Images\"\r\n",
        "x_train = data['trainX']\r\n",
        "#normalize every image\r\n",
        "x_train = np.array(x_train,dtype='float32')/255\r\n",
        "\r\n",
        "x_test = data['testX']\r\n",
        "x_test = np.array(x_test,dtype='float32')/255\r\n",
        "\r\n",
        "# load the Label of Images\r\n",
        "y_train= data['trainY']\r\n",
        "y_test= data['testY']\r\n",
        "\r\n",
        "# show the train and test Data format\r\n",
        "print('x_train : {}'.format(x_train[:]))\r\n",
        "print('Y-train shape: {}'.format(y_train))\r\n",
        "print('x_test shape: {}'.format(x_test.shape))"
      ],
      "execution_count": null,
      "outputs": [
        {
          "output_type": "stream",
          "text": [
            "x_train : [[0.1882353  0.19215687 0.1764706  ... 0.18431373 0.18039216 0.18039216]\n",
            " [0.23529412 0.23529412 0.24313726 ... 0.1254902  0.13333334 0.13333334]\n",
            " [0.15294118 0.17254902 0.20784314 ... 0.11372549 0.10196079 0.11372549]\n",
            " ...\n",
            " [0.44705883 0.45882353 0.44705883 ... 0.38431373 0.3764706  0.38431373]\n",
            " [0.4117647  0.4117647  0.41960785 ... 0.21176471 0.18431373 0.16078432]\n",
            " [0.45490196 0.44705883 0.45882353 ... 0.37254903 0.39215687 0.39607844]]\n",
            "Y-train shape: [ 0  0  0  0  0  0  0  0  0  0  0  0  1  1  1  1  1  1  1  1  1  1  1  1\n",
            "  2  2  2  2  2  2  2  2  2  2  2  2  3  3  3  3  3  3  3  3  3  3  3  3\n",
            "  4  4  4  4  4  4  4  4  4  4  4  4  5  5  5  5  5  5  5  5  5  5  5  5\n",
            "  6  6  6  6  6  6  6  6  6  6  6  6  7  7  7  7  7  7  7  7  7  7  7  7\n",
            "  8  8  8  8  8  8  8  8  8  8  8  8  9  9  9  9  9  9  9  9  9  9  9  9\n",
            " 10 10 10 10 10 10 10 10 10 10 10 10 11 11 11 11 11 11 11 11 11 11 11 11\n",
            " 12 12 12 12 12 12 12 12 12 12 12 12 13 13 13 13 13 13 13 13 13 13 13 13\n",
            " 14 14 14 14 14 14 14 14 14 14 14 14 15 15 15 15 15 15 15 15 15 15 15 15\n",
            " 16 16 16 16 16 16 16 16 16 16 16 16 17 17 17 17 17 17 17 17 17 17 17 17\n",
            " 18 18 18 18 18 18 18 18 18 18 18 18 19 19 19 19 19 19 19 19 19 19 19 19]\n",
            "x_test shape: (160, 10304)\n"
          ],
          "name": "stdout"
        }
      ]
    },
    {
      "cell_type": "markdown",
      "metadata": {
        "id": "tHaz_WY7h12k"
      },
      "source": [
        "###Split DataSet : Validation data and Train###"
      ]
    },
    {
      "cell_type": "code",
      "metadata": {
        "id": "CDLrCB9M0G8b"
      },
      "source": [
        "x_train, x_valid, y_train, y_valid= train_test_split(\r\n",
        "    x_train, y_train, test_size=.05, random_state=1234,)"
      ],
      "execution_count": null,
      "outputs": []
    },
    {
      "cell_type": "markdown",
      "metadata": {
        "id": "l9usIPYQh0x1"
      },
      "source": [
        "### images size change###"
      ]
    },
    {
      "cell_type": "code",
      "metadata": {
        "colab": {
          "base_uri": "https://localhost:8080/"
        },
        "id": "GD2s69Yo0OMs",
        "outputId": "cbce744d-8c62-4a44-87bc-676a0f276e0b"
      },
      "source": [
        "im_rows=112\r\n",
        "im_cols=92\r\n",
        "batch_size=512\r\n",
        "im_shape=(im_rows, im_cols, 1)\r\n",
        "\r\n",
        "#change the size of images\r\n",
        "x_train = x_train.reshape(x_train.shape[0], *im_shape)\r\n",
        "x_test = x_test.reshape(x_test.shape[0], *im_shape)\r\n",
        "x_valid = x_valid.reshape(x_valid.shape[0], *im_shape)\r\n",
        "\r\n",
        "print('x_train shape: {}'.format(y_train.shape[0]))\r\n",
        "print('x_test shape: {}'.format(y_test.shape))"
      ],
      "execution_count": null,
      "outputs": [
        {
          "output_type": "stream",
          "text": [
            "x_train shape: 205\n",
            "x_test shape: (160,)\n"
          ],
          "name": "stdout"
        }
      ]
    },
    {
      "cell_type": "markdown",
      "metadata": {
        "id": "h4Kx5smvijwY"
      },
      "source": [
        "###Build CNN model###"
      ]
    },
    {
      "cell_type": "code",
      "metadata": {
        "id": "FvlWf1h10bO6"
      },
      "source": [
        "#filters= the depth of output image or kernels\r\n",
        "\r\n",
        "cnn_model= Sequential([\r\n",
        "    Conv2D(filters=36, kernel_size=7, activation='relu', input_shape= im_shape),\r\n",
        "    MaxPooling2D(pool_size=2),\r\n",
        "    Conv2D(filters=54, kernel_size=5, activation='relu', input_shape= im_shape),\r\n",
        "    MaxPooling2D(pool_size=2),\r\n",
        "    Flatten(),\r\n",
        "    Dense(2024, activation='relu'),\r\n",
        "     Dropout(0.5),\r\n",
        "    Dense(1024, activation='relu'),\r\n",
        "    Dropout(0.5),\r\n",
        "    Dense(512, activation='relu'),\r\n",
        "    Dropout(0.5),\r\n",
        "    #20 is the number of outputs\r\n",
        "    Dense(20, activation='softmax')  \r\n",
        "])\r\n",
        "\r\n",
        "cnn_model.compile(\r\n",
        "    loss='sparse_categorical_crossentropy',#'categorical_crossentropy',\r\n",
        "    optimizer=Adam(lr=0.0001),\r\n",
        "    metrics=['accuracy']\r\n",
        ")"
      ],
      "execution_count": null,
      "outputs": []
    },
    {
      "cell_type": "markdown",
      "metadata": {
        "id": "as6nXn2Ris_Z"
      },
      "source": [
        "##Show the models parameters##"
      ]
    },
    {
      "cell_type": "code",
      "metadata": {
        "colab": {
          "base_uri": "https://localhost:8080/"
        },
        "id": "ZMgmKsKN01K9",
        "outputId": "fa9f0912-276e-41bc-d93b-1a7b74d6e704"
      },
      "source": [
        "cnn_model.summary()"
      ],
      "execution_count": null,
      "outputs": [
        {
          "output_type": "stream",
          "text": [
            "Model: \"sequential_1\"\n",
            "_________________________________________________________________\n",
            "Layer (type)                 Output Shape              Param #   \n",
            "=================================================================\n",
            "conv2d_2 (Conv2D)            (None, 106, 86, 36)       1800      \n",
            "_________________________________________________________________\n",
            "max_pooling2d_2 (MaxPooling2 (None, 53, 43, 36)        0         \n",
            "_________________________________________________________________\n",
            "conv2d_3 (Conv2D)            (None, 49, 39, 54)        48654     \n",
            "_________________________________________________________________\n",
            "max_pooling2d_3 (MaxPooling2 (None, 24, 19, 54)        0         \n",
            "_________________________________________________________________\n",
            "flatten_1 (Flatten)          (None, 24624)             0         \n",
            "_________________________________________________________________\n",
            "dense_4 (Dense)              (None, 2024)              49841000  \n",
            "_________________________________________________________________\n",
            "dropout_3 (Dropout)          (None, 2024)              0         \n",
            "_________________________________________________________________\n",
            "dense_5 (Dense)              (None, 1024)              2073600   \n",
            "_________________________________________________________________\n",
            "dropout_4 (Dropout)          (None, 1024)              0         \n",
            "_________________________________________________________________\n",
            "dense_6 (Dense)              (None, 512)               524800    \n",
            "_________________________________________________________________\n",
            "dropout_5 (Dropout)          (None, 512)               0         \n",
            "_________________________________________________________________\n",
            "dense_7 (Dense)              (None, 20)                10260     \n",
            "=================================================================\n",
            "Total params: 52,500,114\n",
            "Trainable params: 52,500,114\n",
            "Non-trainable params: 0\n",
            "_________________________________________________________________\n"
          ],
          "name": "stdout"
        }
      ]
    },
    {
      "cell_type": "markdown",
      "metadata": {
        "id": "cjItpYvji769"
      },
      "source": [
        "##Train the Model##"
      ]
    },
    {
      "cell_type": "code",
      "metadata": {
        "colab": {
          "base_uri": "https://localhost:8080/"
        },
        "id": "7yGI-snN1Osz",
        "outputId": "67d13a85-37ea-4375-c9c3-3004561921f5"
      },
      "source": [
        "history=cnn_model.fit(\r\n",
        "    np.array(x_train), np.array(y_train), batch_size=512,\r\n",
        "    epochs=250, verbose=2,\r\n",
        "    validation_data=(np.array(x_valid),np.array(y_valid)),\r\n",
        ")"
      ],
      "execution_count": null,
      "outputs": [
        {
          "output_type": "stream",
          "text": [
            "Epoch 1/250\n",
            "1/1 - 7s - loss: 0.0100 - accuracy: 0.9951 - val_loss: 0.1436 - val_accuracy: 0.9091\n",
            "Epoch 2/250\n",
            "1/1 - 6s - loss: 0.0026 - accuracy: 1.0000 - val_loss: 0.1532 - val_accuracy: 0.9091\n",
            "Epoch 3/250\n",
            "1/1 - 7s - loss: 0.0059 - accuracy: 1.0000 - val_loss: 0.1618 - val_accuracy: 0.9091\n",
            "Epoch 4/250\n",
            "1/1 - 7s - loss: 0.0018 - accuracy: 1.0000 - val_loss: 0.1713 - val_accuracy: 0.9091\n",
            "Epoch 5/250\n",
            "1/1 - 7s - loss: 0.0021 - accuracy: 1.0000 - val_loss: 0.1807 - val_accuracy: 0.9091\n",
            "Epoch 6/250\n",
            "1/1 - 7s - loss: 0.0062 - accuracy: 1.0000 - val_loss: 0.1893 - val_accuracy: 0.9091\n",
            "Epoch 7/250\n",
            "1/1 - 7s - loss: 0.0026 - accuracy: 1.0000 - val_loss: 0.1970 - val_accuracy: 0.9091\n",
            "Epoch 8/250\n",
            "1/1 - 7s - loss: 0.0118 - accuracy: 0.9951 - val_loss: 0.2131 - val_accuracy: 0.9091\n",
            "Epoch 9/250\n",
            "1/1 - 7s - loss: 0.0018 - accuracy: 1.0000 - val_loss: 0.2282 - val_accuracy: 0.9091\n",
            "Epoch 10/250\n",
            "1/1 - 7s - loss: 0.0028 - accuracy: 1.0000 - val_loss: 0.2474 - val_accuracy: 0.9091\n",
            "Epoch 11/250\n",
            "1/1 - 7s - loss: 0.0028 - accuracy: 1.0000 - val_loss: 0.2650 - val_accuracy: 0.9091\n",
            "Epoch 12/250\n",
            "1/1 - 7s - loss: 9.0658e-04 - accuracy: 1.0000 - val_loss: 0.2816 - val_accuracy: 0.9091\n",
            "Epoch 13/250\n",
            "1/1 - 7s - loss: 0.0021 - accuracy: 1.0000 - val_loss: 0.2956 - val_accuracy: 0.9091\n",
            "Epoch 14/250\n",
            "1/1 - 7s - loss: 0.0019 - accuracy: 1.0000 - val_loss: 0.3075 - val_accuracy: 0.9091\n",
            "Epoch 15/250\n",
            "1/1 - 7s - loss: 0.0042 - accuracy: 1.0000 - val_loss: 0.3165 - val_accuracy: 0.9091\n",
            "Epoch 16/250\n",
            "1/1 - 7s - loss: 0.0027 - accuracy: 1.0000 - val_loss: 0.3197 - val_accuracy: 0.9091\n",
            "Epoch 17/250\n",
            "1/1 - 7s - loss: 0.0043 - accuracy: 1.0000 - val_loss: 0.3220 - val_accuracy: 0.9091\n",
            "Epoch 18/250\n",
            "1/1 - 7s - loss: 0.0020 - accuracy: 1.0000 - val_loss: 0.3229 - val_accuracy: 0.9091\n",
            "Epoch 19/250\n",
            "1/1 - 7s - loss: 0.0028 - accuracy: 1.0000 - val_loss: 0.3220 - val_accuracy: 0.9091\n",
            "Epoch 20/250\n",
            "1/1 - 7s - loss: 0.0041 - accuracy: 1.0000 - val_loss: 0.3220 - val_accuracy: 0.9091\n",
            "Epoch 21/250\n",
            "1/1 - 7s - loss: 0.0077 - accuracy: 0.9951 - val_loss: 0.3184 - val_accuracy: 0.9091\n",
            "Epoch 22/250\n",
            "1/1 - 7s - loss: 0.0088 - accuracy: 0.9951 - val_loss: 0.3032 - val_accuracy: 0.9091\n",
            "Epoch 23/250\n",
            "1/1 - 7s - loss: 0.0043 - accuracy: 1.0000 - val_loss: 0.2864 - val_accuracy: 0.9091\n",
            "Epoch 24/250\n",
            "1/1 - 7s - loss: 0.0024 - accuracy: 1.0000 - val_loss: 0.2680 - val_accuracy: 0.9091\n",
            "Epoch 25/250\n",
            "1/1 - 7s - loss: 0.0059 - accuracy: 1.0000 - val_loss: 0.2526 - val_accuracy: 0.9091\n",
            "Epoch 26/250\n",
            "1/1 - 7s - loss: 0.0053 - accuracy: 1.0000 - val_loss: 0.2378 - val_accuracy: 0.9091\n",
            "Epoch 27/250\n",
            "1/1 - 7s - loss: 0.0038 - accuracy: 1.0000 - val_loss: 0.2268 - val_accuracy: 0.9091\n",
            "Epoch 28/250\n",
            "1/1 - 7s - loss: 0.0033 - accuracy: 1.0000 - val_loss: 0.2145 - val_accuracy: 0.9091\n",
            "Epoch 29/250\n",
            "1/1 - 7s - loss: 0.0015 - accuracy: 1.0000 - val_loss: 0.2037 - val_accuracy: 0.9091\n",
            "Epoch 30/250\n",
            "1/1 - 7s - loss: 0.0084 - accuracy: 1.0000 - val_loss: 0.1984 - val_accuracy: 0.9091\n",
            "Epoch 31/250\n",
            "1/1 - 7s - loss: 0.0057 - accuracy: 1.0000 - val_loss: 0.1963 - val_accuracy: 0.9091\n",
            "Epoch 32/250\n",
            "1/1 - 7s - loss: 0.0061 - accuracy: 1.0000 - val_loss: 0.1934 - val_accuracy: 0.9091\n",
            "Epoch 33/250\n",
            "1/1 - 7s - loss: 0.0017 - accuracy: 1.0000 - val_loss: 0.1903 - val_accuracy: 0.9091\n",
            "Epoch 34/250\n",
            "1/1 - 6s - loss: 0.0014 - accuracy: 1.0000 - val_loss: 0.1876 - val_accuracy: 0.9091\n",
            "Epoch 35/250\n",
            "1/1 - 7s - loss: 0.0028 - accuracy: 1.0000 - val_loss: 0.1873 - val_accuracy: 0.9091\n",
            "Epoch 36/250\n",
            "1/1 - 7s - loss: 0.0023 - accuracy: 1.0000 - val_loss: 0.1878 - val_accuracy: 0.9091\n",
            "Epoch 37/250\n",
            "1/1 - 7s - loss: 8.7234e-04 - accuracy: 1.0000 - val_loss: 0.1879 - val_accuracy: 0.9091\n",
            "Epoch 38/250\n",
            "1/1 - 7s - loss: 0.0018 - accuracy: 1.0000 - val_loss: 0.1873 - val_accuracy: 0.9091\n",
            "Epoch 39/250\n",
            "1/1 - 7s - loss: 0.0035 - accuracy: 1.0000 - val_loss: 0.1874 - val_accuracy: 0.9091\n",
            "Epoch 40/250\n",
            "1/1 - 7s - loss: 0.0033 - accuracy: 1.0000 - val_loss: 0.1852 - val_accuracy: 0.9091\n",
            "Epoch 41/250\n",
            "1/1 - 7s - loss: 0.0016 - accuracy: 1.0000 - val_loss: 0.1821 - val_accuracy: 0.9091\n",
            "Epoch 42/250\n",
            "1/1 - 7s - loss: 0.0042 - accuracy: 1.0000 - val_loss: 0.1786 - val_accuracy: 0.9091\n",
            "Epoch 43/250\n",
            "1/1 - 7s - loss: 0.0090 - accuracy: 0.9951 - val_loss: 0.1838 - val_accuracy: 0.9091\n",
            "Epoch 44/250\n",
            "1/1 - 7s - loss: 0.0033 - accuracy: 1.0000 - val_loss: 0.1899 - val_accuracy: 0.9091\n",
            "Epoch 45/250\n",
            "1/1 - 7s - loss: 0.0021 - accuracy: 1.0000 - val_loss: 0.1961 - val_accuracy: 0.9091\n",
            "Epoch 46/250\n",
            "1/1 - 7s - loss: 8.3683e-04 - accuracy: 1.0000 - val_loss: 0.2019 - val_accuracy: 0.9091\n",
            "Epoch 47/250\n",
            "1/1 - 7s - loss: 7.4150e-04 - accuracy: 1.0000 - val_loss: 0.2070 - val_accuracy: 0.9091\n",
            "Epoch 48/250\n",
            "1/1 - 7s - loss: 0.0013 - accuracy: 1.0000 - val_loss: 0.2114 - val_accuracy: 0.9091\n",
            "Epoch 49/250\n",
            "1/1 - 7s - loss: 0.0022 - accuracy: 1.0000 - val_loss: 0.2140 - val_accuracy: 0.9091\n",
            "Epoch 50/250\n",
            "1/1 - 7s - loss: 0.0021 - accuracy: 1.0000 - val_loss: 0.2178 - val_accuracy: 0.9091\n",
            "Epoch 51/250\n",
            "1/1 - 7s - loss: 5.1766e-04 - accuracy: 1.0000 - val_loss: 0.2210 - val_accuracy: 0.9091\n",
            "Epoch 52/250\n",
            "1/1 - 7s - loss: 0.0020 - accuracy: 1.0000 - val_loss: 0.2266 - val_accuracy: 0.9091\n",
            "Epoch 53/250\n",
            "1/1 - 7s - loss: 0.0056 - accuracy: 1.0000 - val_loss: 0.2289 - val_accuracy: 0.9091\n",
            "Epoch 54/250\n",
            "1/1 - 7s - loss: 0.0058 - accuracy: 1.0000 - val_loss: 0.2308 - val_accuracy: 0.9091\n",
            "Epoch 55/250\n",
            "1/1 - 7s - loss: 0.0021 - accuracy: 1.0000 - val_loss: 0.2310 - val_accuracy: 0.9091\n",
            "Epoch 56/250\n",
            "1/1 - 7s - loss: 0.0025 - accuracy: 1.0000 - val_loss: 0.2326 - val_accuracy: 0.9091\n",
            "Epoch 57/250\n",
            "1/1 - 7s - loss: 0.0012 - accuracy: 1.0000 - val_loss: 0.2341 - val_accuracy: 0.9091\n",
            "Epoch 58/250\n",
            "1/1 - 7s - loss: 0.0021 - accuracy: 1.0000 - val_loss: 0.2350 - val_accuracy: 0.9091\n",
            "Epoch 59/250\n",
            "1/1 - 7s - loss: 0.0013 - accuracy: 1.0000 - val_loss: 0.2358 - val_accuracy: 0.9091\n",
            "Epoch 60/250\n",
            "1/1 - 7s - loss: 0.0019 - accuracy: 1.0000 - val_loss: 0.2365 - val_accuracy: 0.9091\n",
            "Epoch 61/250\n",
            "1/1 - 7s - loss: 0.0057 - accuracy: 1.0000 - val_loss: 0.2403 - val_accuracy: 0.9091\n",
            "Epoch 62/250\n",
            "1/1 - 7s - loss: 0.0015 - accuracy: 1.0000 - val_loss: 0.2395 - val_accuracy: 0.9091\n",
            "Epoch 63/250\n",
            "1/1 - 7s - loss: 0.0017 - accuracy: 1.0000 - val_loss: 0.2392 - val_accuracy: 0.9091\n",
            "Epoch 64/250\n",
            "1/1 - 7s - loss: 0.0028 - accuracy: 1.0000 - val_loss: 0.2382 - val_accuracy: 0.9091\n",
            "Epoch 65/250\n",
            "1/1 - 7s - loss: 0.0043 - accuracy: 1.0000 - val_loss: 0.2387 - val_accuracy: 0.9091\n",
            "Epoch 66/250\n",
            "1/1 - 7s - loss: 8.8352e-04 - accuracy: 1.0000 - val_loss: 0.2381 - val_accuracy: 0.9091\n",
            "Epoch 67/250\n",
            "1/1 - 7s - loss: 0.0027 - accuracy: 1.0000 - val_loss: 0.2357 - val_accuracy: 0.9091\n",
            "Epoch 68/250\n",
            "1/1 - 7s - loss: 0.0023 - accuracy: 1.0000 - val_loss: 0.2325 - val_accuracy: 0.9091\n",
            "Epoch 69/250\n",
            "1/1 - 7s - loss: 0.0020 - accuracy: 1.0000 - val_loss: 0.2298 - val_accuracy: 0.9091\n",
            "Epoch 70/250\n",
            "1/1 - 7s - loss: 0.0043 - accuracy: 1.0000 - val_loss: 0.2341 - val_accuracy: 0.9091\n",
            "Epoch 71/250\n",
            "1/1 - 7s - loss: 0.0013 - accuracy: 1.0000 - val_loss: 0.2390 - val_accuracy: 0.9091\n",
            "Epoch 72/250\n",
            "1/1 - 7s - loss: 0.0018 - accuracy: 1.0000 - val_loss: 0.2441 - val_accuracy: 0.9091\n",
            "Epoch 73/250\n",
            "1/1 - 7s - loss: 0.0012 - accuracy: 1.0000 - val_loss: 0.2486 - val_accuracy: 0.9091\n",
            "Epoch 74/250\n",
            "1/1 - 7s - loss: 0.0018 - accuracy: 1.0000 - val_loss: 0.2504 - val_accuracy: 0.9091\n",
            "Epoch 75/250\n",
            "1/1 - 7s - loss: 0.0039 - accuracy: 1.0000 - val_loss: 0.2547 - val_accuracy: 0.9091\n",
            "Epoch 76/250\n",
            "1/1 - 7s - loss: 0.0014 - accuracy: 1.0000 - val_loss: 0.2582 - val_accuracy: 0.9091\n",
            "Epoch 77/250\n",
            "1/1 - 7s - loss: 0.0013 - accuracy: 1.0000 - val_loss: 0.2614 - val_accuracy: 0.9091\n",
            "Epoch 78/250\n",
            "1/1 - 7s - loss: 0.0042 - accuracy: 1.0000 - val_loss: 0.2654 - val_accuracy: 0.9091\n",
            "Epoch 79/250\n",
            "1/1 - 7s - loss: 0.0014 - accuracy: 1.0000 - val_loss: 0.2674 - val_accuracy: 0.9091\n",
            "Epoch 80/250\n",
            "1/1 - 7s - loss: 0.0025 - accuracy: 1.0000 - val_loss: 0.2713 - val_accuracy: 0.9091\n",
            "Epoch 81/250\n",
            "1/1 - 7s - loss: 5.7615e-04 - accuracy: 1.0000 - val_loss: 0.2745 - val_accuracy: 0.9091\n",
            "Epoch 82/250\n",
            "1/1 - 7s - loss: 0.0016 - accuracy: 1.0000 - val_loss: 0.2769 - val_accuracy: 0.9091\n",
            "Epoch 83/250\n",
            "1/1 - 7s - loss: 0.0014 - accuracy: 1.0000 - val_loss: 0.2781 - val_accuracy: 0.9091\n",
            "Epoch 84/250\n",
            "1/1 - 7s - loss: 0.0068 - accuracy: 1.0000 - val_loss: 0.2698 - val_accuracy: 0.9091\n",
            "Epoch 85/250\n",
            "1/1 - 7s - loss: 0.0011 - accuracy: 1.0000 - val_loss: 0.2619 - val_accuracy: 0.9091\n",
            "Epoch 86/250\n",
            "1/1 - 7s - loss: 0.0012 - accuracy: 1.0000 - val_loss: 0.2547 - val_accuracy: 0.9091\n",
            "Epoch 87/250\n",
            "1/1 - 7s - loss: 0.0063 - accuracy: 0.9951 - val_loss: 0.2444 - val_accuracy: 0.9091\n",
            "Epoch 88/250\n",
            "1/1 - 7s - loss: 8.8749e-04 - accuracy: 1.0000 - val_loss: 0.2358 - val_accuracy: 0.9091\n",
            "Epoch 89/250\n",
            "1/1 - 7s - loss: 0.0030 - accuracy: 1.0000 - val_loss: 0.2302 - val_accuracy: 0.9091\n",
            "Epoch 90/250\n",
            "1/1 - 7s - loss: 0.0010 - accuracy: 1.0000 - val_loss: 0.2260 - val_accuracy: 0.9091\n",
            "Epoch 91/250\n",
            "1/1 - 7s - loss: 0.0011 - accuracy: 1.0000 - val_loss: 0.2214 - val_accuracy: 0.9091\n",
            "Epoch 92/250\n",
            "1/1 - 7s - loss: 0.0025 - accuracy: 1.0000 - val_loss: 0.2168 - val_accuracy: 0.9091\n",
            "Epoch 93/250\n",
            "1/1 - 7s - loss: 7.2643e-04 - accuracy: 1.0000 - val_loss: 0.2120 - val_accuracy: 0.9091\n",
            "Epoch 94/250\n",
            "1/1 - 7s - loss: 4.8296e-04 - accuracy: 1.0000 - val_loss: 0.2070 - val_accuracy: 0.9091\n",
            "Epoch 95/250\n",
            "1/1 - 7s - loss: 0.0011 - accuracy: 1.0000 - val_loss: 0.2027 - val_accuracy: 0.9091\n",
            "Epoch 96/250\n",
            "1/1 - 7s - loss: 0.0013 - accuracy: 1.0000 - val_loss: 0.1998 - val_accuracy: 0.9091\n",
            "Epoch 97/250\n",
            "1/1 - 7s - loss: 0.0016 - accuracy: 1.0000 - val_loss: 0.1966 - val_accuracy: 0.9091\n",
            "Epoch 98/250\n",
            "1/1 - 7s - loss: 0.0032 - accuracy: 1.0000 - val_loss: 0.1961 - val_accuracy: 0.9091\n",
            "Epoch 99/250\n",
            "1/1 - 7s - loss: 0.0011 - accuracy: 1.0000 - val_loss: 0.1945 - val_accuracy: 0.9091\n",
            "Epoch 100/250\n",
            "1/1 - 6s - loss: 0.0037 - accuracy: 1.0000 - val_loss: 0.1958 - val_accuracy: 0.9091\n",
            "Epoch 101/250\n",
            "1/1 - 7s - loss: 0.0043 - accuracy: 1.0000 - val_loss: 0.2001 - val_accuracy: 0.9091\n",
            "Epoch 102/250\n",
            "1/1 - 7s - loss: 0.0050 - accuracy: 1.0000 - val_loss: 0.2013 - val_accuracy: 0.9091\n",
            "Epoch 103/250\n",
            "1/1 - 7s - loss: 9.1690e-04 - accuracy: 1.0000 - val_loss: 0.1981 - val_accuracy: 0.9091\n",
            "Epoch 104/250\n",
            "1/1 - 7s - loss: 8.2913e-04 - accuracy: 1.0000 - val_loss: 0.1947 - val_accuracy: 0.9091\n",
            "Epoch 105/250\n",
            "1/1 - 7s - loss: 7.2878e-04 - accuracy: 1.0000 - val_loss: 0.1905 - val_accuracy: 0.9091\n",
            "Epoch 106/250\n",
            "1/1 - 6s - loss: 6.6784e-04 - accuracy: 1.0000 - val_loss: 0.1871 - val_accuracy: 0.9091\n",
            "Epoch 107/250\n",
            "1/1 - 7s - loss: 0.0014 - accuracy: 1.0000 - val_loss: 0.1825 - val_accuracy: 0.9091\n",
            "Epoch 108/250\n",
            "1/1 - 7s - loss: 0.0018 - accuracy: 1.0000 - val_loss: 0.1803 - val_accuracy: 0.9091\n",
            "Epoch 109/250\n",
            "1/1 - 7s - loss: 0.0036 - accuracy: 1.0000 - val_loss: 0.1775 - val_accuracy: 0.9091\n",
            "Epoch 110/250\n",
            "1/1 - 7s - loss: 0.0016 - accuracy: 1.0000 - val_loss: 0.1762 - val_accuracy: 0.9091\n",
            "Epoch 111/250\n",
            "1/1 - 7s - loss: 0.0016 - accuracy: 1.0000 - val_loss: 0.1758 - val_accuracy: 0.9091\n",
            "Epoch 112/250\n",
            "1/1 - 7s - loss: 0.0041 - accuracy: 1.0000 - val_loss: 0.1773 - val_accuracy: 0.9091\n",
            "Epoch 113/250\n",
            "1/1 - 7s - loss: 0.0020 - accuracy: 1.0000 - val_loss: 0.1775 - val_accuracy: 0.9091\n",
            "Epoch 114/250\n",
            "1/1 - 7s - loss: 0.0013 - accuracy: 1.0000 - val_loss: 0.1761 - val_accuracy: 0.9091\n",
            "Epoch 115/250\n",
            "1/1 - 7s - loss: 5.3898e-04 - accuracy: 1.0000 - val_loss: 0.1741 - val_accuracy: 0.9091\n",
            "Epoch 116/250\n",
            "1/1 - 6s - loss: 4.1060e-04 - accuracy: 1.0000 - val_loss: 0.1712 - val_accuracy: 0.9091\n",
            "Epoch 117/250\n",
            "1/1 - 7s - loss: 0.0012 - accuracy: 1.0000 - val_loss: 0.1669 - val_accuracy: 0.9091\n",
            "Epoch 118/250\n",
            "1/1 - 7s - loss: 0.0058 - accuracy: 0.9951 - val_loss: 0.1595 - val_accuracy: 0.9091\n",
            "Epoch 119/250\n",
            "1/1 - 7s - loss: 0.0023 - accuracy: 1.0000 - val_loss: 0.1523 - val_accuracy: 0.9091\n",
            "Epoch 120/250\n",
            "1/1 - 7s - loss: 0.0027 - accuracy: 1.0000 - val_loss: 0.1454 - val_accuracy: 0.9091\n",
            "Epoch 121/250\n",
            "1/1 - 7s - loss: 0.0032 - accuracy: 1.0000 - val_loss: 0.1337 - val_accuracy: 0.9091\n",
            "Epoch 122/250\n",
            "1/1 - 6s - loss: 7.4240e-04 - accuracy: 1.0000 - val_loss: 0.1233 - val_accuracy: 0.9091\n",
            "Epoch 123/250\n",
            "1/1 - 7s - loss: 0.0039 - accuracy: 1.0000 - val_loss: 0.1179 - val_accuracy: 0.9091\n",
            "Epoch 124/250\n",
            "1/1 - 7s - loss: 0.0023 - accuracy: 1.0000 - val_loss: 0.1150 - val_accuracy: 0.9091\n",
            "Epoch 125/250\n",
            "1/1 - 7s - loss: 9.3659e-04 - accuracy: 1.0000 - val_loss: 0.1119 - val_accuracy: 0.9091\n",
            "Epoch 126/250\n",
            "1/1 - 7s - loss: 9.5725e-04 - accuracy: 1.0000 - val_loss: 0.1089 - val_accuracy: 0.9091\n",
            "Epoch 127/250\n",
            "1/1 - 7s - loss: 0.0018 - accuracy: 1.0000 - val_loss: 0.1044 - val_accuracy: 0.9091\n",
            "Epoch 128/250\n",
            "1/1 - 7s - loss: 0.0014 - accuracy: 1.0000 - val_loss: 0.1014 - val_accuracy: 0.9091\n",
            "Epoch 129/250\n",
            "1/1 - 7s - loss: 0.0030 - accuracy: 1.0000 - val_loss: 0.1026 - val_accuracy: 0.9091\n",
            "Epoch 130/250\n",
            "1/1 - 7s - loss: 9.9233e-04 - accuracy: 1.0000 - val_loss: 0.1045 - val_accuracy: 0.9091\n",
            "Epoch 131/250\n",
            "1/1 - 7s - loss: 0.0103 - accuracy: 0.9951 - val_loss: 0.1422 - val_accuracy: 0.9091\n",
            "Epoch 132/250\n",
            "1/1 - 7s - loss: 0.0015 - accuracy: 1.0000 - val_loss: 0.1806 - val_accuracy: 0.9091\n",
            "Epoch 133/250\n",
            "1/1 - 7s - loss: 8.9932e-04 - accuracy: 1.0000 - val_loss: 0.2151 - val_accuracy: 0.9091\n",
            "Epoch 134/250\n",
            "1/1 - 7s - loss: 0.0021 - accuracy: 1.0000 - val_loss: 0.2394 - val_accuracy: 0.9091\n",
            "Epoch 135/250\n",
            "1/1 - 7s - loss: 7.2742e-04 - accuracy: 1.0000 - val_loss: 0.2616 - val_accuracy: 0.9091\n",
            "Epoch 136/250\n",
            "1/1 - 7s - loss: 0.0046 - accuracy: 1.0000 - val_loss: 0.2824 - val_accuracy: 0.9091\n",
            "Epoch 137/250\n",
            "1/1 - 7s - loss: 4.8972e-04 - accuracy: 1.0000 - val_loss: 0.3009 - val_accuracy: 0.9091\n",
            "Epoch 138/250\n",
            "1/1 - 7s - loss: 9.8641e-04 - accuracy: 1.0000 - val_loss: 0.3151 - val_accuracy: 0.9091\n",
            "Epoch 139/250\n",
            "1/1 - 7s - loss: 0.0017 - accuracy: 1.0000 - val_loss: 0.3270 - val_accuracy: 0.9091\n",
            "Epoch 140/250\n",
            "1/1 - 6s - loss: 0.0017 - accuracy: 1.0000 - val_loss: 0.3328 - val_accuracy: 0.9091\n",
            "Epoch 141/250\n",
            "1/1 - 7s - loss: 0.0015 - accuracy: 1.0000 - val_loss: 0.3393 - val_accuracy: 0.9091\n",
            "Epoch 142/250\n",
            "1/1 - 7s - loss: 0.0011 - accuracy: 1.0000 - val_loss: 0.3465 - val_accuracy: 0.9091\n",
            "Epoch 143/250\n",
            "1/1 - 7s - loss: 0.0051 - accuracy: 0.9951 - val_loss: 0.3529 - val_accuracy: 0.9091\n",
            "Epoch 144/250\n",
            "1/1 - 7s - loss: 0.0135 - accuracy: 0.9902 - val_loss: 0.3400 - val_accuracy: 0.9091\n",
            "Epoch 145/250\n",
            "1/1 - 7s - loss: 0.0018 - accuracy: 1.0000 - val_loss: 0.3290 - val_accuracy: 0.9091\n",
            "Epoch 146/250\n",
            "1/1 - 7s - loss: 0.0012 - accuracy: 1.0000 - val_loss: 0.3186 - val_accuracy: 0.9091\n",
            "Epoch 147/250\n",
            "1/1 - 7s - loss: 0.0017 - accuracy: 1.0000 - val_loss: 0.3099 - val_accuracy: 0.9091\n",
            "Epoch 148/250\n",
            "1/1 - 7s - loss: 8.8584e-04 - accuracy: 1.0000 - val_loss: 0.3028 - val_accuracy: 0.9091\n",
            "Epoch 149/250\n",
            "1/1 - 7s - loss: 0.0014 - accuracy: 1.0000 - val_loss: 0.2967 - val_accuracy: 0.9091\n",
            "Epoch 150/250\n",
            "1/1 - 7s - loss: 0.0025 - accuracy: 1.0000 - val_loss: 0.2862 - val_accuracy: 0.9091\n",
            "Epoch 151/250\n",
            "1/1 - 7s - loss: 0.0052 - accuracy: 1.0000 - val_loss: 0.2732 - val_accuracy: 0.9091\n",
            "Epoch 152/250\n",
            "1/1 - 7s - loss: 0.0013 - accuracy: 1.0000 - val_loss: 0.2626 - val_accuracy: 0.9091\n",
            "Epoch 153/250\n",
            "1/1 - 7s - loss: 9.3411e-04 - accuracy: 1.0000 - val_loss: 0.2520 - val_accuracy: 0.9091\n",
            "Epoch 154/250\n",
            "1/1 - 6s - loss: 0.0021 - accuracy: 1.0000 - val_loss: 0.2377 - val_accuracy: 0.9091\n",
            "Epoch 155/250\n",
            "1/1 - 7s - loss: 0.0041 - accuracy: 1.0000 - val_loss: 0.2373 - val_accuracy: 0.9091\n",
            "Epoch 156/250\n",
            "1/1 - 7s - loss: 0.0020 - accuracy: 1.0000 - val_loss: 0.2362 - val_accuracy: 0.9091\n",
            "Epoch 157/250\n",
            "1/1 - 7s - loss: 0.0050 - accuracy: 1.0000 - val_loss: 0.2307 - val_accuracy: 0.9091\n",
            "Epoch 158/250\n",
            "1/1 - 7s - loss: 5.3709e-04 - accuracy: 1.0000 - val_loss: 0.2259 - val_accuracy: 0.9091\n",
            "Epoch 159/250\n",
            "1/1 - 7s - loss: 0.0027 - accuracy: 1.0000 - val_loss: 0.2161 - val_accuracy: 0.9091\n",
            "Epoch 160/250\n",
            "1/1 - 6s - loss: 0.0013 - accuracy: 1.0000 - val_loss: 0.2074 - val_accuracy: 0.9091\n",
            "Epoch 161/250\n",
            "1/1 - 7s - loss: 6.0238e-04 - accuracy: 1.0000 - val_loss: 0.2002 - val_accuracy: 0.9091\n",
            "Epoch 162/250\n",
            "1/1 - 7s - loss: 0.0017 - accuracy: 1.0000 - val_loss: 0.1951 - val_accuracy: 0.9091\n",
            "Epoch 163/250\n",
            "1/1 - 7s - loss: 0.0020 - accuracy: 1.0000 - val_loss: 0.1896 - val_accuracy: 0.9091\n",
            "Epoch 164/250\n",
            "1/1 - 7s - loss: 0.0025 - accuracy: 1.0000 - val_loss: 0.1792 - val_accuracy: 0.9091\n",
            "Epoch 165/250\n",
            "1/1 - 7s - loss: 8.4242e-04 - accuracy: 1.0000 - val_loss: 0.1705 - val_accuracy: 0.9091\n",
            "Epoch 166/250\n",
            "1/1 - 7s - loss: 0.0029 - accuracy: 1.0000 - val_loss: 0.1670 - val_accuracy: 0.9091\n",
            "Epoch 167/250\n",
            "1/1 - 7s - loss: 0.0012 - accuracy: 1.0000 - val_loss: 0.1623 - val_accuracy: 0.9091\n",
            "Epoch 168/250\n",
            "1/1 - 7s - loss: 0.0021 - accuracy: 1.0000 - val_loss: 0.1573 - val_accuracy: 0.9091\n",
            "Epoch 169/250\n",
            "1/1 - 7s - loss: 0.0023 - accuracy: 1.0000 - val_loss: 0.1542 - val_accuracy: 0.9091\n",
            "Epoch 170/250\n",
            "1/1 - 7s - loss: 0.0047 - accuracy: 1.0000 - val_loss: 0.1556 - val_accuracy: 0.9091\n",
            "Epoch 171/250\n",
            "1/1 - 7s - loss: 0.0015 - accuracy: 1.0000 - val_loss: 0.1577 - val_accuracy: 0.9091\n",
            "Epoch 172/250\n",
            "1/1 - 7s - loss: 0.0052 - accuracy: 0.9951 - val_loss: 0.1604 - val_accuracy: 0.9091\n",
            "Epoch 173/250\n",
            "1/1 - 7s - loss: 0.0011 - accuracy: 1.0000 - val_loss: 0.1622 - val_accuracy: 0.9091\n",
            "Epoch 174/250\n",
            "1/1 - 6s - loss: 5.8363e-04 - accuracy: 1.0000 - val_loss: 0.1638 - val_accuracy: 0.9091\n",
            "Epoch 175/250\n",
            "1/1 - 7s - loss: 5.5616e-04 - accuracy: 1.0000 - val_loss: 0.1653 - val_accuracy: 0.9091\n",
            "Epoch 176/250\n",
            "1/1 - 7s - loss: 7.9718e-04 - accuracy: 1.0000 - val_loss: 0.1663 - val_accuracy: 0.9091\n",
            "Epoch 177/250\n",
            "1/1 - 7s - loss: 0.0053 - accuracy: 1.0000 - val_loss: 0.1700 - val_accuracy: 0.9091\n",
            "Epoch 178/250\n",
            "1/1 - 7s - loss: 0.0017 - accuracy: 1.0000 - val_loss: 0.1754 - val_accuracy: 0.9091\n",
            "Epoch 179/250\n",
            "1/1 - 7s - loss: 0.0011 - accuracy: 1.0000 - val_loss: 0.1801 - val_accuracy: 0.9091\n",
            "Epoch 180/250\n",
            "1/1 - 6s - loss: 0.0011 - accuracy: 1.0000 - val_loss: 0.1853 - val_accuracy: 0.9091\n",
            "Epoch 181/250\n",
            "1/1 - 7s - loss: 0.0020 - accuracy: 1.0000 - val_loss: 0.1894 - val_accuracy: 0.9091\n",
            "Epoch 182/250\n",
            "1/1 - 7s - loss: 0.0088 - accuracy: 0.9951 - val_loss: 0.1928 - val_accuracy: 0.9091\n",
            "Epoch 183/250\n",
            "1/1 - 7s - loss: 0.0013 - accuracy: 1.0000 - val_loss: 0.1970 - val_accuracy: 0.9091\n",
            "Epoch 184/250\n",
            "1/1 - 7s - loss: 9.5811e-04 - accuracy: 1.0000 - val_loss: 0.2010 - val_accuracy: 0.9091\n",
            "Epoch 185/250\n",
            "1/1 - 7s - loss: 0.0016 - accuracy: 1.0000 - val_loss: 0.2056 - val_accuracy: 0.9091\n",
            "Epoch 186/250\n",
            "1/1 - 7s - loss: 0.0011 - accuracy: 1.0000 - val_loss: 0.2104 - val_accuracy: 0.9091\n",
            "Epoch 187/250\n",
            "1/1 - 7s - loss: 0.0078 - accuracy: 0.9951 - val_loss: 0.2126 - val_accuracy: 0.9091\n",
            "Epoch 188/250\n",
            "1/1 - 6s - loss: 9.6796e-04 - accuracy: 1.0000 - val_loss: 0.2144 - val_accuracy: 0.9091\n",
            "Epoch 189/250\n",
            "1/1 - 7s - loss: 0.0121 - accuracy: 0.9951 - val_loss: 0.2052 - val_accuracy: 0.9091\n",
            "Epoch 190/250\n",
            "1/1 - 6s - loss: 0.0026 - accuracy: 1.0000 - val_loss: 0.1977 - val_accuracy: 0.9091\n",
            "Epoch 191/250\n",
            "1/1 - 7s - loss: 6.6326e-04 - accuracy: 1.0000 - val_loss: 0.1904 - val_accuracy: 0.9091\n",
            "Epoch 192/250\n",
            "1/1 - 7s - loss: 0.0141 - accuracy: 0.9951 - val_loss: 0.1879 - val_accuracy: 0.9091\n",
            "Epoch 193/250\n",
            "1/1 - 7s - loss: 0.0029 - accuracy: 1.0000 - val_loss: 0.1821 - val_accuracy: 0.9091\n",
            "Epoch 194/250\n",
            "1/1 - 7s - loss: 0.0059 - accuracy: 1.0000 - val_loss: 0.1726 - val_accuracy: 0.9091\n",
            "Epoch 195/250\n",
            "1/1 - 7s - loss: 0.0121 - accuracy: 0.9951 - val_loss: 0.1545 - val_accuracy: 0.9091\n",
            "Epoch 196/250\n",
            "1/1 - 7s - loss: 0.0019 - accuracy: 1.0000 - val_loss: 0.1448 - val_accuracy: 0.9091\n",
            "Epoch 197/250\n",
            "1/1 - 7s - loss: 0.0024 - accuracy: 1.0000 - val_loss: 0.1367 - val_accuracy: 0.9091\n",
            "Epoch 198/250\n",
            "1/1 - 7s - loss: 0.0020 - accuracy: 1.0000 - val_loss: 0.1344 - val_accuracy: 0.9091\n",
            "Epoch 199/250\n",
            "1/1 - 7s - loss: 0.0051 - accuracy: 1.0000 - val_loss: 0.1392 - val_accuracy: 0.9091\n",
            "Epoch 200/250\n",
            "1/1 - 7s - loss: 0.0015 - accuracy: 1.0000 - val_loss: 0.1462 - val_accuracy: 0.9091\n",
            "Epoch 201/250\n",
            "1/1 - 7s - loss: 0.0027 - accuracy: 1.0000 - val_loss: 0.1530 - val_accuracy: 0.9091\n",
            "Epoch 202/250\n",
            "1/1 - 6s - loss: 0.0044 - accuracy: 1.0000 - val_loss: 0.1540 - val_accuracy: 0.9091\n",
            "Epoch 203/250\n",
            "1/1 - 7s - loss: 0.0018 - accuracy: 1.0000 - val_loss: 0.1545 - val_accuracy: 0.9091\n",
            "Epoch 204/250\n",
            "1/1 - 7s - loss: 0.0118 - accuracy: 0.9951 - val_loss: 0.1554 - val_accuracy: 0.9091\n",
            "Epoch 205/250\n",
            "1/1 - 7s - loss: 0.0026 - accuracy: 1.0000 - val_loss: 0.1572 - val_accuracy: 0.9091\n",
            "Epoch 206/250\n",
            "1/1 - 7s - loss: 0.0025 - accuracy: 1.0000 - val_loss: 0.1643 - val_accuracy: 0.9091\n",
            "Epoch 207/250\n",
            "1/1 - 7s - loss: 0.0020 - accuracy: 1.0000 - val_loss: 0.1716 - val_accuracy: 0.9091\n",
            "Epoch 208/250\n",
            "1/1 - 7s - loss: 0.0080 - accuracy: 0.9951 - val_loss: 0.1709 - val_accuracy: 0.9091\n",
            "Epoch 209/250\n",
            "1/1 - 7s - loss: 0.0053 - accuracy: 1.0000 - val_loss: 0.1817 - val_accuracy: 0.9091\n",
            "Epoch 210/250\n",
            "1/1 - 7s - loss: 0.0024 - accuracy: 1.0000 - val_loss: 0.1924 - val_accuracy: 0.9091\n",
            "Epoch 211/250\n",
            "1/1 - 7s - loss: 0.0038 - accuracy: 1.0000 - val_loss: 0.2020 - val_accuracy: 0.9091\n",
            "Epoch 212/250\n",
            "1/1 - 7s - loss: 0.0027 - accuracy: 1.0000 - val_loss: 0.2108 - val_accuracy: 0.9091\n",
            "Epoch 213/250\n",
            "1/1 - 7s - loss: 0.0025 - accuracy: 1.0000 - val_loss: 0.2164 - val_accuracy: 0.9091\n",
            "Epoch 214/250\n",
            "1/1 - 7s - loss: 0.0083 - accuracy: 0.9951 - val_loss: 0.2285 - val_accuracy: 0.9091\n",
            "Epoch 215/250\n",
            "1/1 - 7s - loss: 0.0107 - accuracy: 0.9951 - val_loss: 0.2338 - val_accuracy: 0.9091\n",
            "Epoch 216/250\n",
            "1/1 - 7s - loss: 0.0021 - accuracy: 1.0000 - val_loss: 0.2367 - val_accuracy: 0.9091\n",
            "Epoch 217/250\n",
            "1/1 - 7s - loss: 8.0629e-04 - accuracy: 1.0000 - val_loss: 0.2388 - val_accuracy: 0.9091\n",
            "Epoch 218/250\n",
            "1/1 - 7s - loss: 0.0014 - accuracy: 1.0000 - val_loss: 0.2413 - val_accuracy: 0.9091\n",
            "Epoch 219/250\n",
            "1/1 - 7s - loss: 0.0019 - accuracy: 1.0000 - val_loss: 0.2436 - val_accuracy: 0.9091\n",
            "Epoch 220/250\n",
            "1/1 - 7s - loss: 0.0022 - accuracy: 1.0000 - val_loss: 0.2434 - val_accuracy: 0.9091\n",
            "Epoch 221/250\n",
            "1/1 - 7s - loss: 0.0011 - accuracy: 1.0000 - val_loss: 0.2425 - val_accuracy: 0.9091\n",
            "Epoch 222/250\n",
            "1/1 - 7s - loss: 0.0024 - accuracy: 1.0000 - val_loss: 0.2391 - val_accuracy: 0.9091\n",
            "Epoch 223/250\n",
            "1/1 - 7s - loss: 0.0037 - accuracy: 1.0000 - val_loss: 0.2404 - val_accuracy: 0.9091\n",
            "Epoch 224/250\n",
            "1/1 - 7s - loss: 0.0016 - accuracy: 1.0000 - val_loss: 0.2412 - val_accuracy: 0.9091\n",
            "Epoch 225/250\n",
            "1/1 - 7s - loss: 0.0014 - accuracy: 1.0000 - val_loss: 0.2432 - val_accuracy: 0.9091\n",
            "Epoch 226/250\n",
            "1/1 - 7s - loss: 0.0015 - accuracy: 1.0000 - val_loss: 0.2418 - val_accuracy: 0.9091\n",
            "Epoch 227/250\n",
            "1/1 - 7s - loss: 0.0018 - accuracy: 1.0000 - val_loss: 0.2428 - val_accuracy: 0.9091\n",
            "Epoch 228/250\n",
            "1/1 - 7s - loss: 9.6333e-04 - accuracy: 1.0000 - val_loss: 0.2436 - val_accuracy: 0.9091\n",
            "Epoch 229/250\n",
            "1/1 - 7s - loss: 7.1463e-04 - accuracy: 1.0000 - val_loss: 0.2441 - val_accuracy: 0.9091\n",
            "Epoch 230/250\n",
            "1/1 - 7s - loss: 0.0011 - accuracy: 1.0000 - val_loss: 0.2418 - val_accuracy: 0.9091\n",
            "Epoch 231/250\n",
            "1/1 - 7s - loss: 0.0011 - accuracy: 1.0000 - val_loss: 0.2395 - val_accuracy: 0.9091\n",
            "Epoch 232/250\n",
            "1/1 - 7s - loss: 0.0014 - accuracy: 1.0000 - val_loss: 0.2371 - val_accuracy: 0.9091\n",
            "Epoch 233/250\n",
            "1/1 - 7s - loss: 0.0011 - accuracy: 1.0000 - val_loss: 0.2330 - val_accuracy: 0.9091\n",
            "Epoch 234/250\n",
            "1/1 - 7s - loss: 0.0023 - accuracy: 1.0000 - val_loss: 0.2299 - val_accuracy: 0.9091\n",
            "Epoch 235/250\n",
            "1/1 - 7s - loss: 0.0032 - accuracy: 1.0000 - val_loss: 0.2235 - val_accuracy: 0.9091\n",
            "Epoch 236/250\n",
            "1/1 - 7s - loss: 0.0034 - accuracy: 1.0000 - val_loss: 0.2203 - val_accuracy: 0.9091\n",
            "Epoch 237/250\n",
            "1/1 - 7s - loss: 0.0133 - accuracy: 0.9951 - val_loss: 0.2215 - val_accuracy: 0.9091\n",
            "Epoch 238/250\n",
            "1/1 - 7s - loss: 0.0018 - accuracy: 1.0000 - val_loss: 0.2256 - val_accuracy: 0.9091\n",
            "Epoch 239/250\n",
            "1/1 - 7s - loss: 0.0010 - accuracy: 1.0000 - val_loss: 0.2299 - val_accuracy: 0.9091\n",
            "Epoch 240/250\n",
            "1/1 - 7s - loss: 0.0014 - accuracy: 1.0000 - val_loss: 0.2335 - val_accuracy: 0.9091\n",
            "Epoch 241/250\n",
            "1/1 - 7s - loss: 0.0013 - accuracy: 1.0000 - val_loss: 0.2363 - val_accuracy: 0.9091\n",
            "Epoch 242/250\n",
            "1/1 - 7s - loss: 0.0026 - accuracy: 1.0000 - val_loss: 0.2366 - val_accuracy: 0.9091\n",
            "Epoch 243/250\n",
            "1/1 - 7s - loss: 5.8266e-04 - accuracy: 1.0000 - val_loss: 0.2356 - val_accuracy: 0.9091\n",
            "Epoch 244/250\n",
            "1/1 - 7s - loss: 0.0019 - accuracy: 1.0000 - val_loss: 0.2344 - val_accuracy: 0.9091\n",
            "Epoch 245/250\n",
            "1/1 - 6s - loss: 0.0011 - accuracy: 1.0000 - val_loss: 0.2327 - val_accuracy: 0.9091\n",
            "Epoch 246/250\n",
            "1/1 - 7s - loss: 0.0027 - accuracy: 1.0000 - val_loss: 0.2317 - val_accuracy: 0.9091\n",
            "Epoch 247/250\n",
            "1/1 - 7s - loss: 3.3529e-04 - accuracy: 1.0000 - val_loss: 0.2304 - val_accuracy: 0.9091\n",
            "Epoch 248/250\n",
            "1/1 - 6s - loss: 0.0018 - accuracy: 1.0000 - val_loss: 0.2315 - val_accuracy: 0.9091\n",
            "Epoch 249/250\n",
            "1/1 - 7s - loss: 0.0035 - accuracy: 1.0000 - val_loss: 0.2343 - val_accuracy: 0.9091\n",
            "Epoch 250/250\n",
            "1/1 - 7s - loss: 0.0024 - accuracy: 1.0000 - val_loss: 0.2346 - val_accuracy: 0.9091\n"
          ],
          "name": "stdout"
        }
      ]
    },
    {
      "cell_type": "code",
      "metadata": {
        "colab": {
          "base_uri": "https://localhost:8080/"
        },
        "id": "8jn_sB4F8hfQ",
        "outputId": "77205af0-80c5-4247-97d1-d0a97618e7f1"
      },
      "source": [
        "scor = cnn_model.evaluate( np.array(x_test),  np.array(y_test), verbose=0)\r\n",
        "\r\n",
        "print('test los {:.4f}'.format(scor[0]))\r\n",
        "print('test acc {:.4f}'.format(scor[1]))"
      ],
      "execution_count": null,
      "outputs": [
        {
          "output_type": "stream",
          "text": [
            "test los 0.3418\n",
            "test acc 0.9375\n"
          ],
          "name": "stdout"
        }
      ]
    },
    {
      "cell_type": "markdown",
      "metadata": {
        "id": "T-Cu5-VNjHvG"
      },
      "source": [
        "###plot the result###"
      ]
    },
    {
      "cell_type": "code",
      "metadata": {
        "colab": {
          "base_uri": "https://localhost:8080/",
          "height": 590
        },
        "id": "pZPag7wE8t5D",
        "outputId": "56677178-3bf3-47a7-9171-fe318070ab23"
      },
      "source": [
        "# list all data in history\r\n",
        "print(history.history.keys())\r\n",
        "# summarize history for accuracy\r\n",
        "plt.plot(history.history['accuracy'])\r\n",
        "plt.plot(history.history['val_accuracy'])\r\n",
        "plt.title('model accuracy')\r\n",
        "plt.ylabel('accuracy')\r\n",
        "plt.xlabel('epoch')\r\n",
        "plt.legend(['train', 'test'], loc='upper left')\r\n",
        "plt.show()\r\n",
        "# summarize history for loss\r\n",
        "plt.plot(history.history['loss'])\r\n",
        "plt.plot(history.history['val_loss'])\r\n",
        "plt.title('model loss')\r\n",
        "plt.ylabel('loss')\r\n",
        "plt.xlabel('epoch')\r\n",
        "plt.legend(['train', 'test'], loc='upper left')\r\n",
        "plt.show()"
      ],
      "execution_count": null,
      "outputs": [
        {
          "output_type": "stream",
          "text": [
            "dict_keys(['loss', 'accuracy', 'val_loss', 'val_accuracy'])\n"
          ],
          "name": "stdout"
        },
        {
          "output_type": "display_data",
          "data": {
            "image/png": "[encoded data removed]",
            "text/plain": [
              "<Figure size 432x288 with 1 Axes>"
            ]
          },
          "metadata": {
            "tags": [],
            "needs_background": "light"
          }
        },
        {
          "output_type": "display_data",
          "data": {
            "image/png": "[encoded data removed]",
            "text/plain": [
              "<Figure size 432x288 with 1 Axes>"
            ]
          },
          "metadata": {
            "tags": [],
            "needs_background": "light"
          }
        }
      ]
    },
    {
      "cell_type": "markdown",
      "metadata": {
        "id": "K9zh_-86jSK0"
      },
      "source": [
        "###plot Confusion Matrix###"
      ]
    },
    {
      "cell_type": "code",
      "metadata": {
        "colab": {
          "base_uri": "https://localhost:8080/",
          "height": 1000
        },
        "id": "bimzwPUxI5XI",
        "outputId": "90510407-4095-4894-dd19-6f079276be17"
      },
      "source": [
        "predicted =np.array( cnn_model.predict(x_test))\r\n",
        "#print(predicted)\r\n",
        "#print(y_test)\r\n",
        "ynew = cnn_model.predict_classes(x_test)\r\n",
        "\r\n",
        "\r\n",
        "Acc=accuracy_score(y_test, ynew)\r\n",
        "print(\"accuracy : \")\r\n",
        "print(Acc)\r\n",
        "#/tn, fp, fn, tp = confusion_matrix(np.array(y_test), ynew).ravel()\r\n",
        "cnf_matrix=confusion_matrix(np.array(y_test), ynew)\r\n",
        "\r\n",
        "y_test1 = np_utils.to_categorical(y_test, 20)\r\n",
        "\r\n",
        "\r\n",
        "\r\n",
        "def plot_confusion_matrix(cm, classes,\r\n",
        "                          normalize=False,\r\n",
        "                          title='Confusion matrix',\r\n",
        "                          cmap=plt.cm.Blues):\r\n",
        "    \"\"\"\r\n",
        "    This function prints and plots the confusion matrix.\r\n",
        "    Normalization can be applied by setting `normalize=True`.\r\n",
        "    \"\"\"\r\n",
        "    if normalize:\r\n",
        "        cm = cm.astype('float') / cm.sum(axis=1)[:, np.newaxis]\r\n",
        "        #print(\"Normalized confusion matrix\")\r\n",
        "    else:\r\n",
        "        print('Confusion matrix, without normalization')\r\n",
        "\r\n",
        "    #print(cm)\r\n",
        "    plt.imshow(cm, interpolation='nearest', cmap=cmap)\r\n",
        "    plt.title(title)\r\n",
        "    plt.colorbar()\r\n",
        "    tick_marks = np.arange(len(classes))\r\n",
        "    plt.xticks(tick_marks, classes, rotation=45)\r\n",
        "    plt.yticks(tick_marks, classes)\r\n",
        "\r\n",
        "    fmt = '.2f' if normalize else 'd'\r\n",
        "    thresh = cm.max() / 2.\r\n",
        "    for i, j in itertools.product(range(cm.shape[0]), range(cm.shape[1])):\r\n",
        "        plt.text(j, i, format(cm[i, j], fmt),\r\n",
        "                 horizontalalignment=\"center\",\r\n",
        "                 color=\"white\" if cm[i, j] > thresh else \"black\")\r\n",
        "\r\n",
        "    plt.tight_layout()\r\n",
        "    plt.ylabel('True label')\r\n",
        "    plt.xlabel('Predicted label')\r\n",
        "    plt.show()\r\n",
        "\r\n",
        "\r\n",
        "print('Confusion matrix, without normalization')\r\n",
        "print(cnf_matrix)\r\n",
        "\r\n",
        "plt.figure()\r\n",
        "plot_confusion_matrix(cnf_matrix[1:10,1:10], classes=[0,1,2,3,4,5,6,7,8,9],\r\n",
        "                      title='Confusion matrix, without normalization')\r\n",
        "\r\n",
        "plt.figure()\r\n",
        "plot_confusion_matrix(cnf_matrix[11:20,11:20], classes=[10,11,12,13,14,15,16,17,18,19],\r\n",
        "                      title='Confusion matrix, without normalization')\r\n",
        "\r\n",
        "print(\"Confusion matrix:\\n%s\" % confusion_matrix(np.array(y_test), ynew))\r\n",
        "print(classification_report(np.array(y_test), ynew))"
      ],
      "execution_count": null,
      "outputs": [
        {
          "output_type": "stream",
          "text": [
            "/usr/local/lib/python3.7/dist-packages/tensorflow/python/keras/engine/sequential.py:450: UserWarning: `model.predict_classes()` is deprecated and will be removed after 2021-01-01. Please use instead:* `np.argmax(model.predict(x), axis=-1)`,   if your model does multi-class classification   (e.g. if it uses a `softmax` last-layer activation).* `(model.predict(x) > 0.5).astype(\"int32\")`,   if your model does binary classification   (e.g. if it uses a `sigmoid` last-layer activation).\n",
            "  warnings.warn('`model.predict_classes()` is deprecated and '\n"
          ],
          "name": "stderr"
        },
        {
          "output_type": "stream",
          "text": [
            "accuracy : \n",
            "0.9375\n",
            "Confusion matrix, without normalization\n",
            "[[8 0 0 0 0 0 0 0 0 0 0 0 0 0 0 0 0 0 0 0]\n",
            " [0 8 0 0 0 0 0 0 0 0 0 0 0 0 0 0 0 0 0 0]\n",
            " [0 0 8 0 0 0 0 0 0 0 0 0 0 0 0 0 0 0 0 0]\n",
            " [0 0 0 8 0 0 0 0 0 0 0 0 0 0 0 0 0 0 0 0]\n",
            " [0 0 0 0 6 0 0 0 0 0 0 0 0 0 0 0 0 2 0 0]\n",
            " [0 0 0 0 0 8 0 0 0 0 0 0 0 0 0 0 0 0 0 0]\n",
            " [0 0 0 0 0 0 8 0 0 0 0 0 0 0 0 0 0 0 0 0]\n",
            " [0 0 0 0 0 0 0 8 0 0 0 0 0 0 0 0 0 0 0 0]\n",
            " [0 0 0 0 0 0 0 0 8 0 0 0 0 0 0 0 0 0 0 0]\n",
            " [0 0 0 0 0 0 0 2 0 6 0 0 0 0 0 0 0 0 0 0]\n",
            " [0 0 0 0 0 0 0 0 0 0 8 0 0 0 0 0 0 0 0 0]\n",
            " [0 0 0 0 0 0 0 0 0 0 0 8 0 0 0 0 0 0 0 0]\n",
            " [0 0 0 0 0 0 0 0 0 0 0 0 8 0 0 0 0 0 0 0]\n",
            " [0 0 0 0 0 0 0 0 0 0 0 0 0 8 0 0 0 0 0 0]\n",
            " [0 0 0 0 0 0 0 0 0 0 0 0 0 0 8 0 0 0 0 0]\n",
            " [2 0 0 0 0 0 0 0 0 0 0 0 2 0 0 4 0 0 0 0]\n",
            " [0 0 0 0 0 0 0 0 0 0 0 0 0 0 0 0 8 0 0 0]\n",
            " [0 0 0 0 0 0 0 0 0 0 0 0 0 0 0 0 0 8 0 0]\n",
            " [0 0 0 0 0 0 0 2 0 0 0 0 0 0 0 0 0 0 6 0]\n",
            " [0 0 0 0 0 0 0 0 0 0 0 0 0 0 0 0 0 0 0 8]]\n",
            "Confusion matrix, without normalization\n"
          ],
          "name": "stdout"
        },
        {
          "output_type": "display_data",
          "data": {
            "image/png": "[encoded data removed]",
            "text/plain": [
              "<Figure size 432x288 with 2 Axes>"
            ]
          },
          "metadata": {
            "tags": [],
            "needs_background": "light"
          }
        },
        {
          "output_type": "stream",
          "text": [
            "Confusion matrix, without normalization\n"
          ],
          "name": "stdout"
        },
        {
          "output_type": "display_data",
          "data": {
            "image/png": "[encoded data removed]",
            "text/plain": [
              "<Figure size 432x288 with 2 Axes>"
            ]
          },
          "metadata": {
            "tags": [],
            "needs_background": "light"
          }
        },
        {
          "output_type": "stream",
          "text": [
            "Confusion matrix:\n",
            "[[8 0 0 0 0 0 0 0 0 0 0 0 0 0 0 0 0 0 0 0]\n",
            " [0 8 0 0 0 0 0 0 0 0 0 0 0 0 0 0 0 0 0 0]\n",
            " [0 0 8 0 0 0 0 0 0 0 0 0 0 0 0 0 0 0 0 0]\n",
            " [0 0 0 8 0 0 0 0 0 0 0 0 0 0 0 0 0 0 0 0]\n",
            " [0 0 0 0 6 0 0 0 0 0 0 0 0 0 0 0 0 2 0 0]\n",
            " [0 0 0 0 0 8 0 0 0 0 0 0 0 0 0 0 0 0 0 0]\n",
            " [0 0 0 0 0 0 8 0 0 0 0 0 0 0 0 0 0 0 0 0]\n",
            " [0 0 0 0 0 0 0 8 0 0 0 0 0 0 0 0 0 0 0 0]\n",
            " [0 0 0 0 0 0 0 0 8 0 0 0 0 0 0 0 0 0 0 0]\n",
            " [0 0 0 0 0 0 0 2 0 6 0 0 0 0 0 0 0 0 0 0]\n",
            " [0 0 0 0 0 0 0 0 0 0 8 0 0 0 0 0 0 0 0 0]\n",
            " [0 0 0 0 0 0 0 0 0 0 0 8 0 0 0 0 0 0 0 0]\n",
            " [0 0 0 0 0 0 0 0 0 0 0 0 8 0 0 0 0 0 0 0]\n",
            " [0 0 0 0 0 0 0 0 0 0 0 0 0 8 0 0 0 0 0 0]\n",
            " [0 0 0 0 0 0 0 0 0 0 0 0 0 0 8 0 0 0 0 0]\n",
            " [2 0 0 0 0 0 0 0 0 0 0 0 2 0 0 4 0 0 0 0]\n",
            " [0 0 0 0 0 0 0 0 0 0 0 0 0 0 0 0 8 0 0 0]\n",
            " [0 0 0 0 0 0 0 0 0 0 0 0 0 0 0 0 0 8 0 0]\n",
            " [0 0 0 0 0 0 0 2 0 0 0 0 0 0 0 0 0 0 6 0]\n",
            " [0 0 0 0 0 0 0 0 0 0 0 0 0 0 0 0 0 0 0 8]]\n",
            "              precision    recall  f1-score   support\n",
            "\n",
            "           0       0.80      1.00      0.89         8\n",
            "           1       1.00      1.00      1.00         8\n",
            "           2       1.00      1.00      1.00         8\n",
            "           3       1.00      1.00      1.00         8\n",
            "           4       1.00      0.75      0.86         8\n",
            "           5       1.00      1.00      1.00         8\n",
            "           6       1.00      1.00      1.00         8\n",
            "           7       0.67      1.00      0.80         8\n",
            "           8       1.00      1.00      1.00         8\n",
            "           9       1.00      0.75      0.86         8\n",
            "          10       1.00      1.00      1.00         8\n",
            "          11       1.00      1.00      1.00         8\n",
            "          12       0.80      1.00      0.89         8\n",
            "          13       1.00      1.00      1.00         8\n",
            "          14       1.00      1.00      1.00         8\n",
            "          15       1.00      0.50      0.67         8\n",
            "          16       1.00      1.00      1.00         8\n",
            "          17       0.80      1.00      0.89         8\n",
            "          18       1.00      0.75      0.86         8\n",
            "          19       1.00      1.00      1.00         8\n",
            "\n",
            "    accuracy                           0.94       160\n",
            "   macro avg       0.95      0.94      0.94       160\n",
            "weighted avg       0.95      0.94      0.94       160\n",
            "\n"
          ],
          "name": "stdout"
        }
      ]
    }
  ]
}